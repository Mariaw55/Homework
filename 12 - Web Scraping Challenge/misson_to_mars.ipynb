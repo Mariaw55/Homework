{
 "cells": [
  {
   "cell_type": "code",
   "execution_count": 1,
   "metadata": {},
   "outputs": [],
   "source": [
    "from selenium import webdriver\n",
    "from selenium.common.exceptions import NoSuchElementException\n",
    "from bs4 import BeautifulSoup\n",
    "import time\n",
    "import pandas as pd"
   ]
  },
  {
   "cell_type": "code",
   "execution_count": 2,
   "metadata": {},
   "outputs": [
    {
     "name": "stdout",
     "output_type": "stream",
     "text": [
      "https://mars.nasa.gov/news/?page=0&per_page=40&order=publish_date+desc%2Ccreated_at+desc&search=&category=19%2C165%2C184%2C204&blank_scope=Latest\n"
     ]
    }
   ],
   "source": [
    "#Obtaining an instance of browser\n",
    "browser = webdriver.Chrome('windows/chromedriver')\n",
    "\n",
    "#URL Created \n",
    "url = \"https://mars.nasa.gov/news/?page=0&per_page=40&order=publish_date+desc%2Ccreated_at+desc&search=&category=19%2C165%2C184%2C204&blank_scope=Latest\"\n",
    "# url = \"https://mars.nasa.gov/news/?page=\" + job_criteria + \"&l=\"+job_state\n",
    "print(url)\n",
    "browser.get(url)\n",
    "#Need to add sleep time so that the code and selenium work fine.\n",
    "#time.sleep(1)"
   ]
  },
  {
   "cell_type": "code",
   "execution_count": 3,
   "metadata": {},
   "outputs": [],
   "source": [
    "\n",
    "html = browser.page_source\n",
    "# Parse HTML with Beautiful Soup\n",
    "soup = BeautifulSoup(html, 'html.parser')\n",
    "    \n",
    "# Retrieve all elements that have job opening information\n",
    "news_title = soup.find_all('div', class_='content_title')[0]\n",
    "news_title = news_title.text.strip()\n",
    "\n",
    "news_p = soup.find_all('div', class_='article_teaser_body')[0]\n",
    "news_p = news_p.text.strip()\n"
   ]
  },
  {
   "cell_type": "code",
   "execution_count": 24,
   "metadata": {},
   "outputs": [
    {
     "data": {
      "text/plain": [
       "'https://www.jpl.nasa.gov/spaceimages/images/largesize/PIA23521_hires.jpg'"
      ]
     },
     "execution_count": 24,
     "metadata": {},
     "output_type": "execute_result"
    }
   ],
   "source": [
    "# Use Selenium to navigate the site and find the image url for the current Featured Mars Image \n",
    "# and assign the url string to a variable called featured_image_url.\n",
    "url =\"https://www.jpl.nasa.gov/spaceimages/?search=&category=Mars\"\n",
    "browser.get(url)\n",
    "\n",
    "\n",
    "html = browser.page_source\n",
    "soup = BeautifulSoup (html, 'html.parser')\n",
    "\n",
    "articles = soup.find_all('ul', class_='articles')\n",
    "\n",
    "for article in articles:\n",
    "    link = article.find('a')\n",
    "    href = link['data-fancybox-href']\n",
    "  \n",
    "    featured_image_url = 'https://www.jpl.nasa.gov' + href\n",
    "\n",
    "featured_image_url\n"
   ]
  },
  {
   "cell_type": "code",
   "execution_count": 5,
   "metadata": {},
   "outputs": [
    {
     "data": {
      "text/plain": [
       "'InSight sol 327 (2019-10-28) low -102.6ºC (-152.7ºF) high -25.3ºC (-13.5ºF)\\nwinds from the SSE at 5.6 m/s (12.5 mph) gusting to 19.6 m/s (43.8 mph)\\npressure at 7.00 hPapic.twitter.com/B3xpG54HEx'"
      ]
     },
     "execution_count": 5,
     "metadata": {},
     "output_type": "execute_result"
    }
   ],
   "source": [
    "url =\"https://twitter.com/marswxreport?lang=en\"\n",
    "\n",
    "browser.get(url)\n",
    "html = browser.page_source\n",
    "soup = BeautifulSoup (html, 'html.parser')\n",
    "\n",
    "mars_weather = soup.find('div', class_= 'js-tweet-text-container').text.strip()\n",
    "mars_weather\n",
    "    \n",
    "# featured_image = browser.find_element_by_xpath('/html/body/div[5]/div/div[1]/img')\n",
    "# featured_image"
   ]
  },
  {
   "cell_type": "code",
   "execution_count": 23,
   "metadata": {
    "scrolled": true
   },
   "outputs": [
    {
     "data": {
      "text/plain": [
       "'<table border=\"1\" class=\"dataframe\">  <thead>    <tr style=\"text-align: right;\">      <th></th>      <th>Profile</th>      <th>Mars</th>    </tr>  </thead>  <tbody>    <tr>      <th>0</th>      <td>Equatorial Diameter:</td>      <td>6,792 km</td>    </tr>    <tr>      <th>1</th>      <td>Polar Diameter:</td>      <td>6,752 km</td>    </tr>    <tr>      <th>2</th>      <td>Mass:</td>      <td>6.39 × 10^23 kg (0.11 Earths)</td>    </tr>    <tr>      <th>3</th>      <td>Moons:</td>      <td>2 (Phobos &amp; Deimos)</td>    </tr>    <tr>      <th>4</th>      <td>Orbit Distance:</td>      <td>227,943,824 km (1.38 AU)</td>    </tr>    <tr>      <th>5</th>      <td>Orbit Period:</td>      <td>687 days (1.9 years)</td>    </tr>    <tr>      <th>6</th>      <td>Surface Temperature:</td>      <td>-87 to -5 °C</td>    </tr>    <tr>      <th>7</th>      <td>First Record:</td>      <td>2nd millennium BC</td>    </tr>    <tr>      <th>8</th>      <td>Recorded By:</td>      <td>Egyptian astronomers</td>    </tr>  </tbody></table>'"
      ]
     },
     "execution_count": 23,
     "metadata": {},
     "output_type": "execute_result"
    }
   ],
   "source": [
    "#use Pandas to scrape the table containing facts about the planet including Diameter, Mass, etc\\n\",\n",
    "url =\"https://space-facts.com/mars/\"\n",
    "tables = pd.read_html(url)\n",
    "tables\n",
    "\n",
    "mars_df = tables[1]\n",
    "mars_df.columns = ['Profile', 'Mars']\n",
    "mars_df.head(10)\n",
    "\n",
    "mars_html_table = mars_df.to_html()\n",
    "\n",
    "mars_html_table = mars_html_table.replace('\\n', '')\n",
    "mars_html_table"
   ]
  },
  {
   "cell_type": "code",
   "execution_count": 20,
   "metadata": {},
   "outputs": [
    {
     "data": {
      "text/plain": [
       "[<div class=\"item\"><a class=\"itemLink product-item\" href=\"/search/map/Mars/Viking/cerberus_enhanced\"><img alt=\"Cerberus Hemisphere Enhanced thumbnail\" class=\"thumb\" src=\"/cache/images/dfaf3849e74bf973b59eb50dab52b583_cerberus_enhanced.tif_thumb.png\"/></a><div class=\"description\"><a class=\"itemLink product-item\" href=\"/search/map/Mars/Viking/cerberus_enhanced\"><h3>Cerberus Hemisphere Enhanced</h3></a><span class=\"subtitle\" style=\"float:left\">image/tiff 21 MB</span><span class=\"pubDate\" style=\"float:right\"></span><br/><p>Mosaic of the Cerberus hemisphere of Mars projected into point perspective, a view similar to that which one would see from a spacecraft. This mosaic is composed of 104 Viking Orbiter images acquired…</p></div> <!-- end description --></div>,\n",
       " <div class=\"item\"><a class=\"itemLink product-item\" href=\"/search/map/Mars/Viking/schiaparelli_enhanced\"><img alt=\"Schiaparelli Hemisphere Enhanced thumbnail\" class=\"thumb\" src=\"/cache/images/7677c0a006b83871b5a2f66985ab5857_schiaparelli_enhanced.tif_thumb.png\"/></a><div class=\"description\"><a class=\"itemLink product-item\" href=\"/search/map/Mars/Viking/schiaparelli_enhanced\"><h3>Schiaparelli Hemisphere Enhanced</h3></a><span class=\"subtitle\" style=\"float:left\">image/tiff 35 MB</span><span class=\"pubDate\" style=\"float:right\"></span><br/><p>Mosaic of the Schiaparelli hemisphere of Mars projected into point perspective, a view similar to that which one would see from a spacecraft. The images were acquired in 1980 during early northern…</p></div> <!-- end description --></div>,\n",
       " <div class=\"item\"><a class=\"itemLink product-item\" href=\"/search/map/Mars/Viking/syrtis_major_enhanced\"><img alt=\"Syrtis Major Hemisphere Enhanced thumbnail\" class=\"thumb\" src=\"/cache/images/aae41197e40d6d4f3ea557f8cfe51d15_syrtis_major_enhanced.tif_thumb.png\"/></a><div class=\"description\"><a class=\"itemLink product-item\" href=\"/search/map/Mars/Viking/syrtis_major_enhanced\"><h3>Syrtis Major Hemisphere Enhanced</h3></a><span class=\"subtitle\" style=\"float:left\">image/tiff 25 MB</span><span class=\"pubDate\" style=\"float:right\"></span><br/><p>Mosaic of the Syrtis Major hemisphere of Mars projected into point perspective, a view similar to that which one would see from a spacecraft. This mosaic is composed of about 100 red and violet…</p></div> <!-- end description --></div>,\n",
       " <div class=\"item\"><a class=\"itemLink product-item\" href=\"/search/map/Mars/Viking/valles_marineris_enhanced\"><img alt=\"Valles Marineris Hemisphere Enhanced thumbnail\" class=\"thumb\" src=\"/cache/images/04085d99ec3713883a9a57f42be9c725_valles_marineris_enhanced.tif_thumb.png\"/></a><div class=\"description\"><a class=\"itemLink product-item\" href=\"/search/map/Mars/Viking/valles_marineris_enhanced\"><h3>Valles Marineris Hemisphere Enhanced</h3></a><span class=\"subtitle\" style=\"float:left\">image/tiff 27 MB</span><span class=\"pubDate\" style=\"float:right\"></span><br/><p>Mosaic of the Valles Marineris hemisphere of Mars projected into point perspective, a view similar to that which one would see from a spacecraft. The distance is 2500 kilometers from the surface of…</p></div> <!-- end description --></div>]"
      ]
     },
     "execution_count": 20,
     "metadata": {},
     "output_type": "execute_result"
    }
   ],
   "source": [
    "url =\"https://astrogeology.usgs.gov/search/results?q=hemisphere+enhanced&k1=target&v1=Mars\"\n",
    "url1 = \"https://astrogeology.usgs.gov\"\n",
    "browser.get(url)\n",
    "html = browser.page_source\n",
    "soup = BeautifulSoup (html, 'html.parser')\n",
    "\n",
    "\n",
    "images = soup.find_all('div', class_ ='item')\n",
    "images\n",
    "\n",
    "# enhanced_imagelink = browser.find_element_by_partial_link_text('Enhanced')\n",
    "# enhanced_imagelink.click()"
   ]
  },
  {
   "cell_type": "code",
   "execution_count": 63,
   "metadata": {},
   "outputs": [
    {
     "name": "stdout",
     "output_type": "stream",
     "text": [
      "http://astropedia.astrogeology.usgs.gov/download/Mars/Viking/cerberus_enhanced.tif/full.jpg\n",
      "http://astropedia.astrogeology.usgs.gov/download/Mars/Viking/schiaparelli_enhanced.tif/full.jpg\n",
      "http://astropedia.astrogeology.usgs.gov/download/Mars/Viking/syrtis_major_enhanced.tif/full.jpg\n",
      "http://astropedia.astrogeology.usgs.gov/download/Mars/Viking/valles_marineris_enhanced.tif/full.jpg\n",
      "Complete\n"
     ]
    }
   ],
   "source": [
    "\n",
    "url =\"https://astrogeology.usgs.gov/search/results?q=hemisphere+enhanced&k1=target&v1=Mars\"\n",
    "\n",
    "try:\n",
    "    hemisphere_image_urls = []\n",
    "    x = 0\n",
    "    while True:\n",
    "        browser.get(url)\n",
    "        html_1 = browser.page_source\n",
    "        # Parse HTML with Beautiful Soup\n",
    "        soup_1 = BeautifulSoup(html_1, 'html.parser')\n",
    "#         link = soup_1.find('a', class_='itemLink product-item')\n",
    "        titles = soup_1.find_all('h3')\n",
    "        title = titles[x].text.strip()\n",
    "        \n",
    "        images = browser.find_elements_by_partial_link_text('Enhanced')\n",
    "        images[x].click()\n",
    "        x = x+1\n",
    "        html_2 = browser.page_source\n",
    "        # Parse HTML with Beautiful Soup\n",
    "        soup_2 = BeautifulSoup(html_2, 'html.parser')\n",
    "    \n",
    "        jpeg_url = soup_2.find('div', class_='downloads')\n",
    "        final_url= jpeg_url('a')[0]\n",
    "        the_url= final_url['href']\n",
    "        print(the_url)\n",
    "        dict_mars_hemisphere = {\"title\": title, \"img_url\": the_url}\n",
    "        hemisphere_image_urls.append(dict_mars_hemisphere)\n",
    "        \n",
    "except Exception:\n",
    "    \n",
    "    print(\"Complete\")\n",
    "    \n",
    "#   for image in images:\n",
    "#         image.click()\n",
    "    \n",
    "#         html_2 = browser.page_source\n",
    "#         soup_2 = BeautifulSoup(html_2, 'html.parser')\n",
    "    \n",
    "\n",
    "    \n",
    "\n",
    "    \n",
    "#     #images = soup.find_all('div', class_='item')\n",
    "\n",
    "# hemisphere_image_urls = []\n",
    "\n",
    "# for image in images:\n",
    "        \n",
    "#         url        \n",
    "#         #url.click()\n",
    "#         #href = url['href']\n",
    "#         #href.click()\n",
    "        \n",
    "#         html_2 = browser.page_source\n",
    "#         soup_2 =BeautifulSoup(html_2, 'html.parser')\n",
    "        \n",
    "#         jpeg = soup.find_all('div', class_='downloads')\n",
    "#         image_url = image.find('a')\n",
    "#         href = image_url['href']\n",
    "              \n",
    "#         dict_mars_hemisphere = {\"title\": title, \"img_url\": href}\n",
    "#         hemisphere_image_urls.append(dict_mars_hemisphere)\n",
    "        \n",
    "\n",
    "        \n",
    "#    href = link['href']\n",
    "#    title = link ['h3']\n",
    "#print('------------')\n",
    "# print(title)\n",
    "#print('https://astrogeology.usgs.gov' + href)\n",
    "# print(final_url)\n"
   ]
  },
  {
   "cell_type": "code",
   "execution_count": 64,
   "metadata": {},
   "outputs": [
    {
     "data": {
      "text/plain": [
       "[{'title': 'Cerberus Hemisphere Enhanced',\n",
       "  'img_url': 'http://astropedia.astrogeology.usgs.gov/download/Mars/Viking/cerberus_enhanced.tif/full.jpg'},\n",
       " {'title': 'Cerberus Hemisphere Enhanced',\n",
       "  'img_url': 'http://astropedia.astrogeology.usgs.gov/download/Mars/Viking/schiaparelli_enhanced.tif/full.jpg'},\n",
       " {'title': 'Cerberus Hemisphere Enhanced',\n",
       "  'img_url': 'http://astropedia.astrogeology.usgs.gov/download/Mars/Viking/syrtis_major_enhanced.tif/full.jpg'},\n",
       " {'title': 'Cerberus Hemisphere Enhanced',\n",
       "  'img_url': 'http://astropedia.astrogeology.usgs.gov/download/Mars/Viking/valles_marineris_enhanced.tif/full.jpg'}]"
      ]
     },
     "execution_count": 64,
     "metadata": {},
     "output_type": "execute_result"
    }
   ],
   "source": [
    "hemisphere_image_urls"
   ]
  },
  {
   "cell_type": "code",
   "execution_count": 9,
   "metadata": {},
   "outputs": [],
   "source": [
    "browser.close()"
   ]
  }
 ],
 "metadata": {
  "kernelspec": {
   "display_name": "Python 3",
   "language": "python",
   "name": "python3"
  },
  "language_info": {
   "codemirror_mode": {
    "name": "ipython",
    "version": 3
   },
   "file_extension": ".py",
   "mimetype": "text/x-python",
   "name": "python",
   "nbconvert_exporter": "python",
   "pygments_lexer": "ipython3",
   "version": "3.7.3"
  }
 },
 "nbformat": 4,
 "nbformat_minor": 2
}
